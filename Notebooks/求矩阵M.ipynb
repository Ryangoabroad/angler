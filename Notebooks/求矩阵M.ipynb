{
 "cells": [
  {
   "cell_type": "markdown",
   "metadata": {},
   "source": [
    "## 任意给了4组数输入，并求他们的傅里叶变换"
   ]
  },
  {
   "cell_type": "code",
   "execution_count": 1,
   "metadata": {},
   "outputs": [
    {
     "name": "stdout",
     "output_type": "stream",
     "text": [
      "[[ 2.32844+0.j       0.65101+0.52783j -0.50118+0.j       0.65101-0.52783j]]\n"
     ]
    }
   ],
   "source": [
    "import numpy as np\n",
    "from scipy.linalg import solve\n",
    "#随机的输入数组INPUT3和傅里叶结果INfft3\n",
    "INPUT4 = np.array([[0.78232,0.44349,0.13131,0.97132]])\n",
    "INfft4 = np.fft.fft2(INPUT4)\n",
    "print(INfft4)"
   ]
  },
  {
   "cell_type": "code",
   "execution_count": 2,
   "metadata": {},
   "outputs": [
    {
     "name": "stdout",
     "output_type": "stream",
     "text": [
      "[[ 1.57988+0.j      0.48918-0.2182j -0.109  +0.j      0.48918+0.2182j]]\n"
     ]
    }
   ],
   "source": [
    "INPUT4 = np.array([[0.61231,0.53132,0.12313,0.31312]])\n",
    "INfft4 = np.fft.fft2(INPUT4)\n",
    "print(INfft4)"
   ]
  },
  {
   "cell_type": "code",
   "execution_count": 3,
   "metadata": {},
   "outputs": [
    {
     "name": "stdout",
     "output_type": "stream",
     "text": [
      "[[ 1.7767 +0.j      -0.82707-0.40233j  0.4432 +0.j      -0.82707+0.40233j]]\n"
     ]
    }
   ],
   "source": [
    "INPUT4 = np.array([[0.14144,0.53454,0.96851,0.13221]])\n",
    "INfft4 = np.fft.fft2(INPUT4)\n",
    "print(INfft4)"
   ]
  },
  {
   "cell_type": "code",
   "execution_count": 4,
   "metadata": {},
   "outputs": [
    {
     "name": "stdout",
     "output_type": "stream",
     "text": [
      "[[ 1.58689+0.j       0.03472+0.52793j -1.21141+0.j       0.03472-0.52793j]]\n"
     ]
    }
   ],
   "source": [
    "INPUT4 = np.array([[0.11123,0.43561,0.07651,0.96354]])\n",
    "INfft4 = np.fft.fft2(INPUT4)\n",
    "print(INfft4)"
   ]
  },
  {
   "cell_type": "markdown",
   "metadata": {},
   "source": [
    "## 把4组输入合并，去除输出的第一列，得到中间M矩阵的第一行"
   ]
  },
  {
   "cell_type": "code",
   "execution_count": 10,
   "metadata": {},
   "outputs": [
    {
     "name": "stdout",
     "output_type": "stream",
     "text": [
      "abcd [1.+0.j 1.+0.j 1.+0.j 1.+0.j]\n"
     ]
    }
   ],
   "source": [
    "#A矩阵式前面4个INPUT4的叠加的矩阵。求解得到的abcd，efgh，igkl，mnop将构成傅里叶矩阵M。\n",
    "A=np.array([[0.78232,0.44349,0.13131,0.97132],\n",
    "           [0.61231,0.53132,0.12313,0.31312],\n",
    "           [0.14144,0.53454,0.96851,0.13221],\n",
    "           [0.11123,0.43561,0.07651,0.96354]])\n",
    "Y=np.array([2.32844+0.j,1.57988+0.j ,1.7767 +0.j ,1.58689+0.j  ])\n",
    "abcd=solve(A,Y)\n",
    "print('abcd',abcd)"
   ]
  },
  {
   "cell_type": "markdown",
   "metadata": {},
   "source": [
    "## 输入合并，去除输出的第二列，得到中间M矩阵的第二行"
   ]
  },
  {
   "cell_type": "code",
   "execution_count": 11,
   "metadata": {},
   "outputs": [
    {
     "name": "stdout",
     "output_type": "stream",
     "text": [
      "efgh [ 1.00000000e+00+2.12871272e-16j  4.88698630e-16-1.00000000e+00j\n",
      " -1.00000000e+00-0.00000000e+00j -1.28327108e-16+1.00000000e+00j]\n"
     ]
    }
   ],
   "source": [
    "A=np.array([[0.78232,0.44349,0.13131,0.97132],\n",
    "           [0.61231,0.53132,0.12313,0.31312],\n",
    "           [0.14144,0.53454,0.96851,0.13221],\n",
    "           [0.11123,0.43561,0.07651,0.96354]])\n",
    "Y=np.array([ 0.65101+0.52783j,0.48918-0.2182j ,-0.82707-0.40233j ,0.03472+0.52793j  ])\n",
    "efgh=solve(A,Y)\n",
    "print('efgh',efgh)"
   ]
  },
  {
   "cell_type": "markdown",
   "metadata": {},
   "source": [
    "## 输入合并，去除输出的第三列，得到中间M矩阵的第三行"
   ]
  },
  {
   "cell_type": "code",
   "execution_count": 8,
   "metadata": {},
   "outputs": [
    {
     "name": "stdout",
     "output_type": "stream",
     "text": [
      "igkl [ 0.9999999 +0.j -1.00000303+0.j  1.00000151+0.j -0.99999874-0.j]\n"
     ]
    }
   ],
   "source": [
    "A=np.array([[0.78232,0.44349,0.13131,0.97132],\n",
    "           [0.61231,0.53132,0.12313,0.31312],\n",
    "           [0.14144,0.53454,0.96851,0.13221],\n",
    "           [0.11123,0.43561,0.07651,0.96354]])\n",
    "Y=np.array([ -0.50118+0.j ,-0.10900109+0.j , 0.4432 +0.j  ,-1.21141+0.j  ])\n",
    "igkl=solve(A,Y)\n",
    "print('igkl',igkl)"
   ]
  },
  {
   "cell_type": "markdown",
   "metadata": {},
   "source": [
    "## 输入合并，去除输出的第四列，得到中间M矩阵的第四行"
   ]
  },
  {
   "cell_type": "code",
   "execution_count": 9,
   "metadata": {},
   "outputs": [
    {
     "name": "stdout",
     "output_type": "stream",
     "text": [
      "mnop [ 1.00000009e+00-9.41704341e-09j  2.74874385e-06+9.99999722e-01j\n",
      " -1.00000137e+00+1.38837727e-07j -1.14430916e-06-9.99999884e-01j]\n"
     ]
    }
   ],
   "source": [
    "A=np.array([[0.78232,0.44349,0.13131,0.97132],\n",
    "           [0.61231,0.53132,0.12313,0.31312],\n",
    "           [0.14144,0.53454,0.96851,0.13221],\n",
    "           [0.11123,0.43561,0.07651,0.96354]])\n",
    "Y=np.array([0.65101-0.52783j , 0.48918099+0.2181999j,-0.82707+0.40233j ,0.03472-0.52793j ])\n",
    "mnop=solve(A,Y)\n",
    "print('mnop',mnop)"
   ]
  },
  {
   "cell_type": "markdown",
   "metadata": {},
   "source": [
    "## 测试任意的一个4*1数组，看和矩阵M相乘能不能得到傅里叶变换"
   ]
  },
  {
   "cell_type": "code",
   "execution_count": 12,
   "metadata": {},
   "outputs": [
    {
     "name": "stdout",
     "output_type": "stream",
     "text": [
      "输入数组A： \n",
      " [[0.9853   ]\n",
      " [0.66745  ]\n",
      " [0.3483242]\n",
      " [0.976444 ]]\n",
      "\n",
      "\n",
      "二维傅里叶矩阵M： \n",
      " [[ 1.00000109e+00+0.00000000e+00j  1.00003221e+00+0.00000000e+00j\n",
      "   9.99983890e-01+0.00000000e+00j  9.99986590e-01+0.00000000e+00j]\n",
      " [ 1.00000009e+00+9.41704341e-09j  2.74874385e-06-9.99999722e-01j\n",
      "  -1.00000137e+00-1.38837727e-07j -1.14430916e-06+9.99999884e-01j]\n",
      " [ 9.99999900e-01+0.00000000e+00j -1.00000303e+00+0.00000000e+00j\n",
      "   1.00000151e+00+0.00000000e+00j -9.99998740e-01+0.00000000e+00j]\n",
      " [ 1.00000009e+00-9.41704341e-09j  2.74874385e-06+9.99999722e-01j\n",
      "  -1.00000137e+00+1.38837727e-07j -1.14430916e-06-9.99999884e-01j]]\n",
      "\n",
      "\n",
      "电脑fft计算np.fft.fft2(A)傅里叶结果： \n",
      " [[ 2.9775182+0.j      ]\n",
      " [ 0.6369758+0.308994j]\n",
      " [-0.3102698+0.j      ]\n",
      " [ 0.6369758-0.308994j]]\n",
      "\n",
      "\n",
      "数组A经过M矩阵的np.matmul(M,A)傅里叶结果： \n",
      " [[ 2.97752207+0.j        ]\n",
      " [ 0.63697613+0.30899403j]\n",
      " [-0.31027016+0.j        ]\n",
      " [ 0.63697613-0.30899403j]]\n"
     ]
    }
   ],
   "source": [
    "#输入新的4*1的图像A矩阵，来验证M矩阵是否有效\n",
    "A=np.array([[0.9853],[0.66745],[0.3483242],[0.976444]])\n",
    "print('输入数组A：','\\n',A)\n",
    "print('\\n')\n",
    "\n",
    "M=np.array([[1.00000109+0j,1.00003221+0j, 0.99998389+0j,0.99998659+0j],\n",
    "            [ 1.00000009+9.41704341e-9j  ,2.74874385e-6-9.99999722e-1j,-1.00000137-1.38837727e-7j ,-1.14430916e-6+9.99999884e-1j],\n",
    "            [ 0.9999999 +0j, -1.00000303+0j , 1.00000151+0j, -0.99999874-0j],\n",
    "            [ 1.00000009-9.41704341e-9j , 2.74874385e-6+9.99999722e-1j,-1.00000137+1.38837727e-7j ,-1.14430916e-6-9.99999884e-1j]])\n",
    "print('二维傅里叶矩阵M：','\\n',M)\n",
    "\n",
    "print('\\n')\n",
    "print('电脑fft计算np.fft.fft2(A)傅里叶结果：','\\n',np.fft.fft2(A))\n",
    "print('\\n')\n",
    "print('数组A经过M矩阵的np.matmul(M,A)傅里叶结果：','\\n',np.matmul(M,A))"
   ]
  },
  {
   "cell_type": "markdown",
   "metadata": {},
   "source": [
    "## 换一组数输入，再测试看看"
   ]
  },
  {
   "cell_type": "code",
   "execution_count": 13,
   "metadata": {},
   "outputs": [
    {
     "name": "stdout",
     "output_type": "stream",
     "text": [
      "输入数组A： \n",
      " [[0.3463]\n",
      " [0.2175]\n",
      " [0.8215]\n",
      " [0.9832]]\n",
      "\n",
      "\n"
     ]
    }
   ],
   "source": [
    "A=np.array([[0.3463],[0.2175],[0.8215],[0.9832]])\n",
    "print('输入数组A：','\\n',A)\n",
    "print('\\n')"
   ]
  },
  {
   "cell_type": "code",
   "execution_count": 14,
   "metadata": {},
   "outputs": [
    {
     "name": "stdout",
     "output_type": "stream",
     "text": [
      "二维傅里叶矩阵M： \n",
      " [[ 1.00000109e+00+0.00000000e+00j  1.00003221e+00+0.00000000e+00j\n",
      "   9.99983890e-01+0.00000000e+00j  9.99986590e-01+0.00000000e+00j]\n",
      " [ 1.00000009e+00+9.41704341e-09j  2.74874385e-06-9.99999722e-01j\n",
      "  -1.00000137e+00-1.38837727e-07j -1.14430916e-06+9.99999884e-01j]\n",
      " [ 9.99999900e-01+0.00000000e+00j -1.00000303e+00+0.00000000e+00j\n",
      "   1.00000151e+00+0.00000000e+00j -9.99998740e-01+0.00000000e+00j]\n",
      " [ 1.00000009e+00-9.41704341e-09j  2.74874385e-06+9.99999722e-01j\n",
      "  -1.00000137e+00+1.38837727e-07j -1.14430916e-06-9.99999884e-01j]]\n",
      "\n",
      "\n",
      "电脑fft计算np.fft.fft2(A)傅里叶结果： \n",
      " [[ 2.3685+0.j    ]\n",
      " [-0.4752+0.7657j]\n",
      " [-0.0329+0.j    ]\n",
      " [-0.4752-0.7657j]]\n",
      "\n",
      "\n",
      "数组A经过M矩阵的np.matmul(M,A)傅里叶结果： \n",
      " [[ 2.36848096+0.j        ]\n",
      " [-0.47520162+0.76569984j]\n",
      " [-0.03289821+0.j        ]\n",
      " [-0.47520162-0.76569984j]]\n"
     ]
    }
   ],
   "source": [
    "print('二维傅里叶矩阵M：','\\n',M)\n",
    "\n",
    "print('\\n')\n",
    "print('电脑fft计算np.fft.fft2(A)傅里叶结果：','\\n',np.fft.fft2(A))\n",
    "print('\\n')\n",
    "print('数组A经过M矩阵的np.matmul(M,A)傅里叶结果：','\\n',np.matmul(M,A))"
   ]
  },
  {
   "cell_type": "code",
   "execution_count": null,
   "metadata": {},
   "outputs": [],
   "source": []
  }
 ],
 "metadata": {
  "kernelspec": {
   "display_name": "Python 3",
   "language": "python",
   "name": "python3"
  },
  "language_info": {
   "codemirror_mode": {
    "name": "ipython",
    "version": 3
   },
   "file_extension": ".py",
   "mimetype": "text/x-python",
   "name": "python",
   "nbconvert_exporter": "python",
   "pygments_lexer": "ipython3",
   "version": "3.7.6"
  }
 },
 "nbformat": 4,
 "nbformat_minor": 4
}
